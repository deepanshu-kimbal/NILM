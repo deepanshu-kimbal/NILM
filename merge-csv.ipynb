{
 "cells": [
  {
   "cell_type": "code",
   "execution_count": 1,
   "metadata": {},
   "outputs": [
    {
     "name": "stdout",
     "output_type": "stream",
     "text": [
      "All files have been merged and saved as merged_processed_data.csv\n"
     ]
    }
   ],
   "source": [
    "import csv\n",
    "import os\n",
    "\n",
    "# Path to the directory containing your CSV files\n",
    "directory = '.'  # Current directory (use absolute path if needed)\n",
    "\n",
    "# Output file where merged data will be saved\n",
    "output_file = 'merged_processed_data.csv'\n",
    "\n",
    "# Initialize a list to hold all rows\n",
    "all_rows = []\n",
    "\n",
    "# Loop through all files in the directory\n",
    "for filename in os.listdir(directory):\n",
    "    # Check if the file is a processed CSV file (you can adjust the pattern if needed)\n",
    "    if filename.startswith('processed_') and filename.endswith('.csv'):\n",
    "        file_path = os.path.join(directory, filename)\n",
    "        \n",
    "        # Open the current CSV file for reading\n",
    "        with open(file_path, mode='r') as file:\n",
    "            reader = csv.reader(file, delimiter=',')\n",
    "            \n",
    "            # Add the rows of this CSV file to the all_rows list\n",
    "            for row in reader:\n",
    "                all_rows.append(row)\n",
    "\n",
    "# Write all the combined rows into the output file\n",
    "with open(output_file, mode='w', newline='') as file:\n",
    "    writer = csv.writer(file, delimiter=',', quoting=csv.QUOTE_NONE)\n",
    "    # Write all rows to the new file\n",
    "    writer.writerows(all_rows)\n",
    "\n",
    "print(f\"All files have been merged and saved as {output_file}\")"
   ]
  }
 ],
 "metadata": {
  "kernelspec": {
   "display_name": "Python 3",
   "language": "python",
   "name": "python3"
  },
  "language_info": {
   "codemirror_mode": {
    "name": "ipython",
    "version": 3
   },
   "file_extension": ".py",
   "mimetype": "text/x-python",
   "name": "python",
   "nbconvert_exporter": "python",
   "pygments_lexer": "ipython3",
   "version": "3.13.1"
  }
 },
 "nbformat": 4,
 "nbformat_minor": 2
}
